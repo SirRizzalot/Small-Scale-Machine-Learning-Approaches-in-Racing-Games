{
  "cells": [
    {
      "cell_type": "markdown",
      "source": [
        "SET-UP"
      ],
      "metadata": {
        "id": "d_KWkJ8VX6bA"
      }
    },
    {
      "cell_type": "code",
      "source": [
        "%%capture\n",
        "!apt install python-opengl\n",
        "!apt install ffmpeg\n",
        "!apt install xvfb\n",
        "!pip install pyvirtualdisplay\n",
        "!pip install pyglet==1.5.1"
      ],
      "metadata": {
        "id": "HvucU2hqVMgR"
      },
      "execution_count": null,
      "outputs": []
    },
    {
      "cell_type": "code",
      "source": [
        "%%capture\n",
        "!pip install swig\n",
        "!pip install gymnasium[box2d]\n",
        "!pip install stable_baselines3"
      ],
      "metadata": {
        "id": "Y_hV4ZgcVNp8"
      },
      "execution_count": null,
      "outputs": []
    },
    {
      "cell_type": "code",
      "source": [
        "# Virtual Display\n",
        "from pyvirtualdisplay import Display\n",
        "import imageio\n",
        "\n",
        "virtual_display = Display(visible=0, size=(1400, 900))\n",
        "virtual_display.start()"
      ],
      "metadata": {
        "id": "pP7lN-OHVPml"
      },
      "execution_count": null,
      "outputs": []
    },
    {
      "cell_type": "code",
      "source": [
        "# NumPy\n",
        "import numpy as np\n",
        "\n",
        "# MatPlotLib\n",
        "import matplotlib.pyplot as plt\n",
        "%matplotlib inline\n",
        "\n",
        "# Gym\n",
        "import gymnasium as gym\n",
        "\n",
        "# Hugging Face Hub\n",
        "from huggingface_hub import hf_hub_download\n",
        "\n",
        "# Stable Baselines\n",
        "import stable_baselines3\n",
        "from stable_baselines3 import PPO\n",
        "from stable_baselines3.common.vec_env import DummyVecEnv, VecNormalize\n",
        "\n",
        "from stable_baselines3.common.utils import set_random_seed\n",
        "from stable_baselines3.common.evaluation import evaluate_policy"
      ],
      "metadata": {
        "id": "QUcAPVShVRje"
      },
      "execution_count": null,
      "outputs": []
    },
    {
      "cell_type": "code",
      "source": [
        "# Acquire Project Weights from HuggingFace\n",
        "control_weights = hf_hub_download(repo_id=\"afternooners/CS175_G2_CarRacingRL\", filename=\"ppo_carracing_ctrl_500k.zip\")\n",
        "pretraining_weights = hf_hub_download(repo_id=\"afternooners/CS175_G2_CarRacingRL\", filename=\"ppo_carracing_ptrn_500k.zip\")\n",
        "balanced_weights = hf_hub_download(repo_id=\"afternooners/CS175_G2_CarRacingRL\", filename=\"ppo_carracing_250k_250k.zip\")"
      ],
      "metadata": {
        "id": "tUl3X8ghUhm9"
      },
      "execution_count": null,
      "outputs": []
    },
    {
      "cell_type": "code",
      "source": [
        "# Define Seeded Environment Creation\n",
        "def make_seeded_env(rank: int, seed: int = 50):\n",
        "    def _init():\n",
        "        env = gym.make(\"CarRacing-v2\", continuous=True, render_mode=\"rgb_array\")\n",
        "        env = gym.wrappers.GrayScaleObservation(env)\n",
        "        env = gym.wrappers.FrameStack(env, 4)\n",
        "        env.reset(seed = seed + rank)\n",
        "        return env\n",
        "    set_random_seed(seed)\n",
        "    return _init"
      ],
      "metadata": {
        "id": "sCYTM7c1VH4h"
      },
      "execution_count": null,
      "outputs": []
    },
    {
      "cell_type": "code",
      "source": [
        "# Define Recording Process (Adapted from Class Assignments)\n",
        "def record_video(env, agent, out_directory, fps=30):\n",
        "  images = []\n",
        "  done = [False]\n",
        "  state = vec_env.reset()\n",
        "  img = vec_env.render(mode='rgb_array')\n",
        "  images.append(img)\n",
        "  total_step = 0\n",
        "  while not any(done) and total_step <= 10000:\n",
        "    # Take the action (index) that have the maximum expected future reward given that state\n",
        "    action, _ = agent.predict(state)\n",
        "    state, reward, done, info = vec_env.step(action) # We directly put next_state = state for recording logic\n",
        "    img = vec_env.render(mode='rgb_array')\n",
        "    images.append(img)\n",
        "    total_step += 1\n",
        "  imageio.mimsave(out_directory, [np.array(img) for i, img in enumerate(images)], fps=fps)"
      ],
      "metadata": {
        "id": "SXtn92J4V304"
      },
      "execution_count": null,
      "outputs": []
    },
    {
      "cell_type": "markdown",
      "source": [
        "EVALUATION"
      ],
      "metadata": {
        "id": "8E11iYybX5Tc"
      }
    },
    {
      "cell_type": "code",
      "source": [
        "### EVALUATE CONTROL WEIGHTS\n",
        "# Make Evaluation/Recording Environment\n",
        "vec_env = DummyVecEnv([make_seeded_env(0)])\n",
        "vec_env = VecNormalize(vec_env, norm_reward=False)\n",
        "_ = vec_env.reset()\n",
        "\n",
        "# Evaluation\n",
        "model = PPO.load(control_weights)\n",
        "mean_reward, std_reward = evaluate_policy(model, vec_env, n_eval_episodes=10)\n",
        "\n",
        "print(mean_reward, std_reward)\n",
        "\n",
        "# Record\n",
        "record_video(vec_env, model, 'replay_control.mp4')"
      ],
      "metadata": {
        "id": "eC8-o5S7V4Ux"
      },
      "execution_count": null,
      "outputs": []
    },
    {
      "cell_type": "code",
      "source": [
        "### EVALUATE PRE-TRAINED ONLY WEIGHTS\n",
        "# Make Evaluation/Recording Environment\n",
        "vec_env = DummyVecEnv([make_seeded_env(0)])\n",
        "vec_env = VecNormalize(vec_env, norm_reward=False)\n",
        "_ = vec_env.reset()\n",
        "\n",
        "# Evaluation\n",
        "model = PPO.load(pretraining_weights)\n",
        "mean_reward, std_reward = evaluate_policy(model, vec_env, n_eval_episodes=10)\n",
        "\n",
        "print(mean_reward, std_reward)\n",
        "\n",
        "# Record\n",
        "record_video(vec_env, model, 'replay_pretrained.mp4')"
      ],
      "metadata": {
        "id": "oTmzKIbaXnM0"
      },
      "execution_count": null,
      "outputs": []
    },
    {
      "cell_type": "code",
      "source": [
        "### EVALUATE BALANCED WEIGHTS\n",
        "# Make Evaluation/Recording Environment\n",
        "vec_env = DummyVecEnv([make_seeded_env(0)])\n",
        "vec_env = VecNormalize(vec_env, norm_reward=False)\n",
        "_ = vec_env.reset()\n",
        "\n",
        "# Evaluation\n",
        "model = PPO.load(balanced_weights)\n",
        "mean_reward, std_reward = evaluate_policy(model, vec_env, n_eval_episodes=10)\n",
        "\n",
        "print(mean_reward, std_reward)\n",
        "\n",
        "# Record\n",
        "record_video(vec_env, model, 'replay_balanced.mp4')"
      ],
      "metadata": {
        "id": "P-zx7oGuXnXk"
      },
      "execution_count": null,
      "outputs": []
    },
    {
      "cell_type": "markdown",
      "source": [
        "SAMPLE RESULTS & SAMPLE GRAPHS"
      ],
      "metadata": {
        "id": "lrOWtrl4a03s"
      }
    },
    {
      "cell_type": "code",
      "source": [
        "timesteps = [50, 100, 150, 200, 250, 300, 350, 400, 450, 500]\n",
        "\n",
        "control_mean = [-71.56602827236057,\n",
        "                -77.23975842371583,\n",
        "                195.87571020573378,\n",
        "                89.39719541445375,\n",
        "                97.93157279714941,\n",
        "                35.53426783084869,\n",
        "                142.0098912715912,\n",
        "                86.09785084947944,\n",
        "                136.28725129812955,\n",
        "                100.37254328802229]\n",
        "control_dev = [28.938622738126096,\n",
        "              18.974300427868524,\n",
        "              77.31105251034577,\n",
        "              129.74269222676347,\n",
        "              96.20631836050028,\n",
        "              91.89347023095445,\n",
        "              121.45923206661318,\n",
        "              73.48234576617882,\n",
        "              121.10681006466125,\n",
        "              120.04318988071681]\n",
        "\n",
        "discrete_mean = [-48.07522962987423,\n",
        "                169.23196376115084,\n",
        "                492.90895173847673,\n",
        "                148.77657257840036,\n",
        "                394.0915129818022,\n",
        "                448.1148546427488,\n",
        "                348.03121475204824,\n",
        "                609.3364371180535,\n",
        "                545.2750342205167,\n",
        "                522.605269471556]\n",
        "discrete_dev = [45.66687364758861,\n",
        "               138.26847993696143,\n",
        "               314.892086672329,\n",
        "               187.40784975608895,\n",
        "               214.87846876388784,\n",
        "               378.6473381138737,\n",
        "               285.325231227268,\n",
        "               234.19166343126022,\n",
        "               269.5760905005281,\n",
        "               252.97241026822888]\n",
        "\n",
        "pt_only_mean = [-21.813477098941803,\n",
        "                -12.453992227464914,\n",
        "                -29.757496236264707,\n",
        "                -85.3734246276319,\n",
        "                -92.92052103132009,\n",
        "                -76.48714018687606,\n",
        "                -57.71685437262058,\n",
        "                -67.01099306046963,\n",
        "                -87.00543158352374,\n",
        "                -28.926131387799977]\n",
        "pt_only_dev = [50.23791046876233,\n",
        "               79.20309688724981,\n",
        "               38.727115547054176,\n",
        "               15.405686170320251,\n",
        "               0.6001151223220166,\n",
        "               21.8244465014826,\n",
        "               32.84453839491019,\n",
        "               36.289392181150966,\n",
        "               15.792310825719925,\n",
        "               92.42155363377613]\n",
        "\n",
        "halfsies_mean = [-21.813477098941803,\n",
        "                 -12.453992227464914,\n",
        "                 -29.757496236264707,\n",
        "                 -85.3734246276319,\n",
        "                 -92.92052103132009,\n",
        "                 301.24912825450303,\n",
        "                 403.333711951226,\n",
        "                 548.6872661761939,\n",
        "                 676.7151700697839,\n",
        "                 655.1734473370016]\n",
        "halfsies_dev = [50.23791046876233,\n",
        "                79.20309688724981,\n",
        "                38.727115547054176,\n",
        "                15.405686170320251,\n",
        "                0.6001151223220166,\n",
        "                82.80825667399868,\n",
        "                151.74394834038395,\n",
        "                66.98684950444557,\n",
        "                127.15441892844086,\n",
        "                110.56360548336824]\n",
        "\n",
        "full_mean = [152.00371483564376,\n",
        "             428.1300849564374,\n",
        "             510.8040171049535,\n",
        "             529.8803184486926,\n",
        "             504.70786495357754,\n",
        "             360.8025470145047,\n",
        "             480.9409361995757,\n",
        "             392.75008980184793,\n",
        "             429.22787026688457,\n",
        "             355.1088084869087]\n",
        "full_dev = [168.8319748041459,\n",
        "            192.5237685188229,\n",
        "            284.57785567335003,\n",
        "            228.8449353125535,\n",
        "            246.3681598025003,\n",
        "            175.13776885514338,\n",
        "            213.01645007414172,\n",
        "            164.8023912434953,\n",
        "            148.40808734408455,\n",
        "            154.92073708505023]"
      ],
      "metadata": {
        "id": "1W7IIjnkazxO"
      },
      "execution_count": null,
      "outputs": []
    },
    {
      "cell_type": "code",
      "source": [
        "plt.title(\"Control (Continuous)\")\n",
        "plt.xlabel(\"thousands of timesteps\")\n",
        "plt.ylabel(\"reward\")\n",
        "plt.ylim(-200, 1000)\n",
        "plt.xlim(50, 500)\n",
        "plt.plot(timesteps, control_mean, marker='x', color='r', label = 'mean')\n",
        "plt.plot(timesteps, control_dev, marker='x', color='b', label = 'std. dev')\n",
        "plt.legend()\n",
        "\n",
        "plt.show()"
      ],
      "metadata": {
        "id": "3IVUf9j7FFtf"
      },
      "execution_count": null,
      "outputs": []
    },
    {
      "cell_type": "code",
      "source": [
        "plt.title(\"Control (Discrete)\")\n",
        "plt.xlabel(\"thousands of timesteps\")\n",
        "plt.ylabel(\"reward\")\n",
        "plt.ylim(-200, 1000)\n",
        "plt.xlim(50, 500)\n",
        "plt.plot(timesteps, discrete_mean, marker='x', color='r', label = 'mean')\n",
        "plt.plot(timesteps, discrete_dev, marker='x', color='b', label = 'std. dev')\n",
        "plt.legend()\n",
        "\n",
        "plt.show()"
      ],
      "metadata": {
        "id": "fpt46I8za0MW"
      },
      "execution_count": null,
      "outputs": []
    },
    {
      "cell_type": "code",
      "source": [
        "plt.title(\"Pre-Training Only\")\n",
        "plt.xlabel(\"thousands of timesteps\")\n",
        "plt.ylabel(\"reward\")\n",
        "plt.ylim(-200, 1000)\n",
        "plt.xlim(50, 500)\n",
        "plt.plot(timesteps, pt_only_mean, marker='x', color='r', label = 'mean')\n",
        "plt.plot(timesteps, pt_only_dev, marker='x', color='b', label = 'std. dev')\n",
        "plt.legend()\n",
        "\n",
        "plt.show()"
      ],
      "metadata": {
        "id": "_uoIncZBa6VF"
      },
      "execution_count": null,
      "outputs": []
    },
    {
      "cell_type": "code",
      "source": [
        "plt.title(\"250k + 250k\")\n",
        "plt.xlabel(\"thousands of timesteps\")\n",
        "plt.ylabel(\"reward\")\n",
        "plt.ylim(-200, 1000)\n",
        "plt.xlim(50, 500)\n",
        "plt.plot(timesteps, halfsies_mean, marker='x', color='r', label = 'mean')\n",
        "plt.plot(timesteps, halfsies_dev, marker='x', color='b', label = 'std. dev')\n",
        "plt.legend()\n",
        "\n",
        "plt.show()"
      ],
      "metadata": {
        "id": "h6WP7swNbAdw"
      },
      "execution_count": null,
      "outputs": []
    },
    {
      "cell_type": "code",
      "source": [
        "plt.title(\"500k + 500k\")\n",
        "plt.xlabel(\"thousands of timesteps\")\n",
        "plt.ylabel(\"reward\")\n",
        "plt.ylim(-200, 1000)\n",
        "plt.xlim(50, 500)\n",
        "plt.plot(timesteps, full_mean, marker='x', color='r', label = 'mean')\n",
        "plt.plot(timesteps, full_dev, marker='x', color='b', label = 'std. dev')\n",
        "plt.legend()\n",
        "\n",
        "plt.show()"
      ],
      "metadata": {
        "id": "EMlB1lnnbAqo"
      },
      "execution_count": null,
      "outputs": []
    }
  ],
  "metadata": {
    "accelerator": "GPU",
    "colab": {
      "provenance": [],
      "private_outputs": true,
      "gpuType": "T4"
    },
    "kernelspec": {
      "display_name": "Python 3",
      "name": "python3"
    },
    "language_info": {
      "name": "python"
    }
  },
  "nbformat": 4,
  "nbformat_minor": 0
}