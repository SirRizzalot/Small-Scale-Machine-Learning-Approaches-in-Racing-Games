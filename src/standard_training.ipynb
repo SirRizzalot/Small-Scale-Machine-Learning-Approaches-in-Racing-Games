{
  "cells": [
    {
      "cell_type": "code",
      "execution_count": null,
      "metadata": {
        "id": "GbKXjPw8fkXL"
      },
      "outputs": [],
      "source": [
        "%%capture\n",
        "!pip install swig\n",
        "!pip install gymnasium[box2d]\n",
        "!pip install stable_baselines3"
      ]
    },
    {
      "cell_type": "code",
      "execution_count": 2,
      "metadata": {
        "id": "MRKNoOfbZOm8"
      },
      "outputs": [],
      "source": [
        "# NumPy\n",
        "import numpy as np\n",
        "\n",
        "# Gym\n",
        "import gymnasium as gym\n",
        "\n",
        "# Stable Baselines\n",
        "import stable_baselines3\n",
        "from stable_baselines3 import PPO\n",
        "from stable_baselines3.common.vec_env import DummyVecEnv, VecNormalize\n",
        "\n",
        "from stable_baselines3.common.utils import set_random_seed"
      ]
    },
    {
      "cell_type": "code",
      "execution_count": 3,
      "metadata": {
        "id": "y1_SpDRAV_6j"
      },
      "outputs": [],
      "source": [
        "# Define Environment Creation\n",
        "def make_env(rank: int, seed: int = 50):\n",
        "    def _init():\n",
        "        env = gym.make(\"CarRacing-v2\", continuous=True, render_mode=\"rgb_array\")\n",
        "        env = gym.wrappers.GrayScaleObservation(env)\n",
        "        env = gym.wrappers.FrameStack(env, 4)\n",
        "        env.reset(seed = np.random.randint(9999))\n",
        "        return env\n",
        "    set_random_seed(np.random.randint(9999))\n",
        "    return _init"
      ]
    },
    {
      "cell_type": "code",
      "execution_count": 4,
      "metadata": {
        "id": "BZTsLkH6Vg3s"
      },
      "outputs": [],
      "source": [
        "# Make Training Environment\n",
        "num_cpu = 4\n",
        "vec_env = DummyVecEnv([make_env(i) for i in range(num_cpu)])\n",
        "vec_env = VecNormalize(vec_env, norm_reward=False)\n",
        "_ = vec_env.reset()"
      ]
    },
    {
      "cell_type": "code",
      "execution_count": 5,
      "metadata": {
        "colab": {
          "base_uri": "https://localhost:8080/",
          "height": 1000,
          "referenced_widgets": [
            "9044066ebc184bf1934acdbfd4517170",
            "061a08baeec14508ab66bb73c08d0bd1"
          ]
        },
        "id": "R2gr2qYbVmXb",
        "outputId": "77b1c872-223e-4ffd-c487-fa69a8ed3859"
      },
      "outputs": [
        {
          "output_type": "stream",
          "name": "stdout",
          "text": [
            "Using cuda device\n"
          ]
        },
        {
          "output_type": "display_data",
          "data": {
            "text/plain": [
              "Output()"
            ],
            "application/vnd.jupyter.widget-view+json": {
              "version_major": 2,
              "version_minor": 0,
              "model_id": "9044066ebc184bf1934acdbfd4517170"
            }
          },
          "metadata": {}
        },
        {
          "output_type": "stream",
          "name": "stdout",
          "text": [
            "-----------------------------\n",
            "| time/              |      |\n",
            "|    fps             | 68   |\n",
            "|    iterations      | 1    |\n",
            "|    time_elapsed    | 119  |\n",
            "|    total_timesteps | 8192 |\n",
            "-----------------------------\n",
            "-----------------------------------------\n",
            "| time/                   |             |\n",
            "|    fps                  | 66          |\n",
            "|    iterations           | 2           |\n",
            "|    time_elapsed         | 245         |\n",
            "|    total_timesteps      | 16384       |\n",
            "| train/                  |             |\n",
            "|    approx_kl            | 0.008074686 |\n",
            "|    clip_fraction        | 0.0815      |\n",
            "|    clip_range           | 0.2         |\n",
            "|    entropy_loss         | -4.22       |\n",
            "|    explained_variance   | 0.133       |\n",
            "|    learning_rate        | 0.0003      |\n",
            "|    loss                 | 0.138       |\n",
            "|    n_updates            | 10          |\n",
            "|    policy_gradient_loss | -0.00674    |\n",
            "|    std                  | 0.985       |\n",
            "|    value_loss           | 0.563       |\n",
            "-----------------------------------------\n",
            "-----------------------------------------\n",
            "| time/                   |             |\n",
            "|    fps                  | 65          |\n",
            "|    iterations           | 3           |\n",
            "|    time_elapsed         | 375         |\n",
            "|    total_timesteps      | 24576       |\n",
            "| train/                  |             |\n",
            "|    approx_kl            | 0.009451858 |\n",
            "|    clip_fraction        | 0.103       |\n",
            "|    clip_range           | 0.2         |\n",
            "|    entropy_loss         | -4.18       |\n",
            "|    explained_variance   | 0.288       |\n",
            "|    learning_rate        | 0.0003      |\n",
            "|    loss                 | 0.157       |\n",
            "|    n_updates            | 20          |\n",
            "|    policy_gradient_loss | -0.0075     |\n",
            "|    std                  | 0.969       |\n",
            "|    value_loss           | 0.636       |\n",
            "-----------------------------------------\n",
            "-----------------------------------------\n",
            "| time/                   |             |\n",
            "|    fps                  | 64          |\n",
            "|    iterations           | 4           |\n",
            "|    time_elapsed         | 506         |\n",
            "|    total_timesteps      | 32768       |\n",
            "| train/                  |             |\n",
            "|    approx_kl            | 0.010073823 |\n",
            "|    clip_fraction        | 0.12        |\n",
            "|    clip_range           | 0.2         |\n",
            "|    entropy_loss         | -4.16       |\n",
            "|    explained_variance   | 0.469       |\n",
            "|    learning_rate        | 0.0003      |\n",
            "|    loss                 | 0.229       |\n",
            "|    n_updates            | 30          |\n",
            "|    policy_gradient_loss | -0.00469    |\n",
            "|    std                  | 0.966       |\n",
            "|    value_loss           | 0.639       |\n",
            "-----------------------------------------\n",
            "------------------------------------------\n",
            "| time/                   |              |\n",
            "|    fps                  | 64           |\n",
            "|    iterations           | 5            |\n",
            "|    time_elapsed         | 639          |\n",
            "|    total_timesteps      | 40960        |\n",
            "| train/                  |              |\n",
            "|    approx_kl            | 0.0105713345 |\n",
            "|    clip_fraction        | 0.121        |\n",
            "|    clip_range           | 0.2          |\n",
            "|    entropy_loss         | -4.12        |\n",
            "|    explained_variance   | 0.299        |\n",
            "|    learning_rate        | 0.0003       |\n",
            "|    loss                 | 0.147        |\n",
            "|    n_updates            | 40           |\n",
            "|    policy_gradient_loss | -0.00414     |\n",
            "|    std                  | 0.953        |\n",
            "|    value_loss           | 0.616        |\n",
            "------------------------------------------\n",
            "-----------------------------------------\n",
            "| time/                   |             |\n",
            "|    fps                  | 64          |\n",
            "|    iterations           | 6           |\n",
            "|    time_elapsed         | 766         |\n",
            "|    total_timesteps      | 49152       |\n",
            "| train/                  |             |\n",
            "|    approx_kl            | 0.011366004 |\n",
            "|    clip_fraction        | 0.135       |\n",
            "|    clip_range           | 0.2         |\n",
            "|    entropy_loss         | -4.07       |\n",
            "|    explained_variance   | 0.345       |\n",
            "|    learning_rate        | 0.0003      |\n",
            "|    loss                 | 0.285       |\n",
            "|    n_updates            | 50          |\n",
            "|    policy_gradient_loss | -0.0039     |\n",
            "|    std                  | 0.937       |\n",
            "|    value_loss           | 0.713       |\n",
            "-----------------------------------------\n",
            "-----------------------------------------\n",
            "| time/                   |             |\n",
            "|    fps                  | 63          |\n",
            "|    iterations           | 7           |\n",
            "|    time_elapsed         | 898         |\n",
            "|    total_timesteps      | 57344       |\n",
            "| train/                  |             |\n",
            "|    approx_kl            | 0.012322451 |\n",
            "|    clip_fraction        | 0.147       |\n",
            "|    clip_range           | 0.2         |\n",
            "|    entropy_loss         | -4.05       |\n",
            "|    explained_variance   | 0.417       |\n",
            "|    learning_rate        | 0.0003      |\n",
            "|    loss                 | 0.139       |\n",
            "|    n_updates            | 60          |\n",
            "|    policy_gradient_loss | -0.0074     |\n",
            "|    std                  | 0.931       |\n",
            "|    value_loss           | 0.702       |\n",
            "-----------------------------------------\n"
          ]
        },
        {
          "output_type": "display_data",
          "data": {
            "text/plain": [],
            "text/html": [
              "<pre style=\"white-space:pre;overflow-x:auto;line-height:normal;font-family:Menlo,'DejaVu Sans Mono',consolas,'Courier New',monospace\"></pre>\n"
            ]
          },
          "metadata": {}
        },
        {
          "output_type": "display_data",
          "data": {
            "text/plain": [
              "\n"
            ],
            "text/html": [
              "<pre style=\"white-space:pre;overflow-x:auto;line-height:normal;font-family:Menlo,'DejaVu Sans Mono',consolas,'Courier New',monospace\">\n",
              "</pre>\n"
            ]
          },
          "metadata": {}
        }
      ],
      "source": [
        "# Train New Agent (!!!OVERWRITES EXISTING WEIGHTS!!!)\n",
        "model = PPO(\"MlpPolicy\", vec_env, verbose=1)\n",
        "model.learn(total_timesteps=50000, progress_bar=True)\n",
        "\n",
        "model.save(\"ppo_carracing\")"
      ]
    },
    {
      "cell_type": "code",
      "execution_count": 6,
      "metadata": {
        "id": "Assonu0OF45f",
        "colab": {
          "base_uri": "https://localhost:8080/",
          "height": 1000,
          "referenced_widgets": [
            "7cc01f4e0e3949b8a555162a5ae4cb33",
            "3e16b49ed588470da508ac4e13bc63d0"
          ]
        },
        "outputId": "5933eb7e-36ec-4cc3-d38a-bb0c7f5478c7"
      },
      "outputs": [
        {
          "output_type": "display_data",
          "data": {
            "text/plain": [
              "Output()"
            ],
            "application/vnd.jupyter.widget-view+json": {
              "version_major": 2,
              "version_minor": 0,
              "model_id": "7cc01f4e0e3949b8a555162a5ae4cb33"
            }
          },
          "metadata": {}
        },
        {
          "output_type": "stream",
          "name": "stdout",
          "text": [
            "-----------------------------\n",
            "| time/              |      |\n",
            "|    fps             | 67   |\n",
            "|    iterations      | 1    |\n",
            "|    time_elapsed    | 120  |\n",
            "|    total_timesteps | 8192 |\n",
            "-----------------------------\n",
            "-----------------------------------------\n",
            "| time/                   |             |\n",
            "|    fps                  | 64          |\n",
            "|    iterations           | 2           |\n",
            "|    time_elapsed         | 253         |\n",
            "|    total_timesteps      | 16384       |\n",
            "| train/                  |             |\n",
            "|    approx_kl            | 0.015329387 |\n",
            "|    clip_fraction        | 0.176       |\n",
            "|    clip_range           | 0.2         |\n",
            "|    entropy_loss         | -3.93       |\n",
            "|    explained_variance   | 0.507       |\n",
            "|    learning_rate        | 0.0003      |\n",
            "|    loss                 | 0.32        |\n",
            "|    n_updates            | 80          |\n",
            "|    policy_gradient_loss | -0.00484    |\n",
            "|    std                  | 0.892       |\n",
            "|    value_loss           | 0.79        |\n",
            "-----------------------------------------\n",
            "-----------------------------------------\n",
            "| time/                   |             |\n",
            "|    fps                  | 63          |\n",
            "|    iterations           | 3           |\n",
            "|    time_elapsed         | 385         |\n",
            "|    total_timesteps      | 24576       |\n",
            "| train/                  |             |\n",
            "|    approx_kl            | 0.015095362 |\n",
            "|    clip_fraction        | 0.169       |\n",
            "|    clip_range           | 0.2         |\n",
            "|    entropy_loss         | -3.87       |\n",
            "|    explained_variance   | 0.565       |\n",
            "|    learning_rate        | 0.0003      |\n",
            "|    loss                 | 0.303       |\n",
            "|    n_updates            | 90          |\n",
            "|    policy_gradient_loss | -0.00581    |\n",
            "|    std                  | 0.876       |\n",
            "|    value_loss           | 0.622       |\n",
            "-----------------------------------------\n",
            "----------------------------------------\n",
            "| time/                   |            |\n",
            "|    fps                  | 63         |\n",
            "|    iterations           | 4          |\n",
            "|    time_elapsed         | 518        |\n",
            "|    total_timesteps      | 32768      |\n",
            "| train/                  |            |\n",
            "|    approx_kl            | 0.01406542 |\n",
            "|    clip_fraction        | 0.162      |\n",
            "|    clip_range           | 0.2        |\n",
            "|    entropy_loss         | -3.84      |\n",
            "|    explained_variance   | 0.421      |\n",
            "|    learning_rate        | 0.0003     |\n",
            "|    loss                 | 0.198      |\n",
            "|    n_updates            | 100        |\n",
            "|    policy_gradient_loss | -0.00587   |\n",
            "|    std                  | 0.87       |\n",
            "|    value_loss           | 0.641      |\n",
            "----------------------------------------\n",
            "-----------------------------------------\n",
            "| time/                   |             |\n",
            "|    fps                  | 62          |\n",
            "|    iterations           | 5           |\n",
            "|    time_elapsed         | 651         |\n",
            "|    total_timesteps      | 40960       |\n",
            "| train/                  |             |\n",
            "|    approx_kl            | 0.014893949 |\n",
            "|    clip_fraction        | 0.167       |\n",
            "|    clip_range           | 0.2         |\n",
            "|    entropy_loss         | -3.78       |\n",
            "|    explained_variance   | 0.673       |\n",
            "|    learning_rate        | 0.0003      |\n",
            "|    loss                 | 0.249       |\n",
            "|    n_updates            | 110         |\n",
            "|    policy_gradient_loss | -0.0051     |\n",
            "|    std                  | 0.85        |\n",
            "|    value_loss           | 0.82        |\n",
            "-----------------------------------------\n",
            "-----------------------------------------\n",
            "| time/                   |             |\n",
            "|    fps                  | 62          |\n",
            "|    iterations           | 6           |\n",
            "|    time_elapsed         | 783         |\n",
            "|    total_timesteps      | 49152       |\n",
            "| train/                  |             |\n",
            "|    approx_kl            | 0.014209785 |\n",
            "|    clip_fraction        | 0.166       |\n",
            "|    clip_range           | 0.2         |\n",
            "|    entropy_loss         | -3.72       |\n",
            "|    explained_variance   | 0.762       |\n",
            "|    learning_rate        | 0.0003      |\n",
            "|    loss                 | 0.303       |\n",
            "|    n_updates            | 120         |\n",
            "|    policy_gradient_loss | -0.00504    |\n",
            "|    std                  | 0.834       |\n",
            "|    value_loss           | 0.759       |\n",
            "-----------------------------------------\n",
            "-----------------------------------------\n",
            "| time/                   |             |\n",
            "|    fps                  | 62          |\n",
            "|    iterations           | 7           |\n",
            "|    time_elapsed         | 918         |\n",
            "|    total_timesteps      | 57344       |\n",
            "| train/                  |             |\n",
            "|    approx_kl            | 0.014457485 |\n",
            "|    clip_fraction        | 0.168       |\n",
            "|    clip_range           | 0.2         |\n",
            "|    entropy_loss         | -3.68       |\n",
            "|    explained_variance   | 0.815       |\n",
            "|    learning_rate        | 0.0003      |\n",
            "|    loss                 | 0.322       |\n",
            "|    n_updates            | 130         |\n",
            "|    policy_gradient_loss | -0.00503    |\n",
            "|    std                  | 0.825       |\n",
            "|    value_loss           | 0.678       |\n",
            "-----------------------------------------\n"
          ]
        },
        {
          "output_type": "display_data",
          "data": {
            "text/plain": [],
            "text/html": [
              "<pre style=\"white-space:pre;overflow-x:auto;line-height:normal;font-family:Menlo,'DejaVu Sans Mono',consolas,'Courier New',monospace\"></pre>\n"
            ]
          },
          "metadata": {}
        },
        {
          "output_type": "display_data",
          "data": {
            "text/plain": [
              "\n"
            ],
            "text/html": [
              "<pre style=\"white-space:pre;overflow-x:auto;line-height:normal;font-family:Menlo,'DejaVu Sans Mono',consolas,'Courier New',monospace\">\n",
              "</pre>\n"
            ]
          },
          "metadata": {}
        }
      ],
      "source": [
        "# Load Agent & Perform Additional Training\n",
        "model = PPO.load(\"ppo_carracing\", env=vec_env)\n",
        "model.learn(total_timesteps=50000, progress_bar=True)\n",
        "\n",
        "model.save(\"ppo_carracing\")"
      ]
    }
  ],
  "metadata": {
    "accelerator": "GPU",
    "colab": {
      "provenance": []
    },
    "kernelspec": {
      "display_name": "Python 3",
      "name": "python3"
    },
    "language_info": {
      "name": "python"
    },
    "widgets": {
      "application/vnd.jupyter.widget-state+json": {
        "9044066ebc184bf1934acdbfd4517170": {
          "model_module": "@jupyter-widgets/output",
          "model_name": "OutputModel",
          "model_module_version": "1.0.0",
          "state": {
            "_dom_classes": [],
            "_model_module": "@jupyter-widgets/output",
            "_model_module_version": "1.0.0",
            "_model_name": "OutputModel",
            "_view_count": null,
            "_view_module": "@jupyter-widgets/output",
            "_view_module_version": "1.0.0",
            "_view_name": "OutputView",
            "layout": "IPY_MODEL_061a08baeec14508ab66bb73c08d0bd1",
            "msg_id": "",
            "outputs": [
              {
                "output_type": "display_data",
                "data": {
                  "text/plain": "\u001b[35m 100%\u001b[0m \u001b[38;2;114;156;31m━━━━━━━━━━━━━━━━━━━━━━━━━━━━━━━━━━━━━━━━━━━━━━━━━━━━━━━━━━━━━━\u001b[0m \u001b[32m57,344/50,000 \u001b[0m [ \u001b[33m0:13:09\u001b[0m < \u001b[36m0:00:00\u001b[0m , \u001b[31m42 it/s\u001b[0m ]\n",
                  "text/html": "<pre style=\"white-space:pre;overflow-x:auto;line-height:normal;font-family:Menlo,'DejaVu Sans Mono',consolas,'Courier New',monospace\"><span style=\"color: #800080; text-decoration-color: #800080\"> 100%</span> <span style=\"color: #729c1f; text-decoration-color: #729c1f\">━━━━━━━━━━━━━━━━━━━━━━━━━━━━━━━━━━━━━━━━━━━━━━━━━━━━━━━━━━━━━━</span> <span style=\"color: #008000; text-decoration-color: #008000\">57,344/50,000 </span> [ <span style=\"color: #808000; text-decoration-color: #808000\">0:13:09</span> &lt; <span style=\"color: #008080; text-decoration-color: #008080\">0:00:00</span> , <span style=\"color: #800000; text-decoration-color: #800000\">42 it/s</span> ]\n</pre>\n"
                },
                "metadata": {}
              }
            ]
          }
        },
        "061a08baeec14508ab66bb73c08d0bd1": {
          "model_module": "@jupyter-widgets/base",
          "model_name": "LayoutModel",
          "model_module_version": "1.2.0",
          "state": {
            "_model_module": "@jupyter-widgets/base",
            "_model_module_version": "1.2.0",
            "_model_name": "LayoutModel",
            "_view_count": null,
            "_view_module": "@jupyter-widgets/base",
            "_view_module_version": "1.2.0",
            "_view_name": "LayoutView",
            "align_content": null,
            "align_items": null,
            "align_self": null,
            "border": null,
            "bottom": null,
            "display": null,
            "flex": null,
            "flex_flow": null,
            "grid_area": null,
            "grid_auto_columns": null,
            "grid_auto_flow": null,
            "grid_auto_rows": null,
            "grid_column": null,
            "grid_gap": null,
            "grid_row": null,
            "grid_template_areas": null,
            "grid_template_columns": null,
            "grid_template_rows": null,
            "height": null,
            "justify_content": null,
            "justify_items": null,
            "left": null,
            "margin": null,
            "max_height": null,
            "max_width": null,
            "min_height": null,
            "min_width": null,
            "object_fit": null,
            "object_position": null,
            "order": null,
            "overflow": null,
            "overflow_x": null,
            "overflow_y": null,
            "padding": null,
            "right": null,
            "top": null,
            "visibility": null,
            "width": null
          }
        },
        "7cc01f4e0e3949b8a555162a5ae4cb33": {
          "model_module": "@jupyter-widgets/output",
          "model_name": "OutputModel",
          "model_module_version": "1.0.0",
          "state": {
            "_dom_classes": [],
            "_model_module": "@jupyter-widgets/output",
            "_model_module_version": "1.0.0",
            "_model_name": "OutputModel",
            "_view_count": null,
            "_view_module": "@jupyter-widgets/output",
            "_view_module_version": "1.0.0",
            "_view_name": "OutputView",
            "layout": "IPY_MODEL_3e16b49ed588470da508ac4e13bc63d0",
            "msg_id": "",
            "outputs": [
              {
                "output_type": "display_data",
                "data": {
                  "text/plain": "\u001b[35m 100%\u001b[0m \u001b[38;2;114;156;31m━━━━━━━━━━━━━━━━━━━━━━━━━━━━━━━━━━━━━━━━━━━━━━━━━━━━━━━━━━━━━━\u001b[0m \u001b[32m57,344/50,000 \u001b[0m [ \u001b[33m0:13:29\u001b[0m < \u001b[36m0:00:00\u001b[0m , \u001b[31m65 it/s\u001b[0m ]\n",
                  "text/html": "<pre style=\"white-space:pre;overflow-x:auto;line-height:normal;font-family:Menlo,'DejaVu Sans Mono',consolas,'Courier New',monospace\"><span style=\"color: #800080; text-decoration-color: #800080\"> 100%</span> <span style=\"color: #729c1f; text-decoration-color: #729c1f\">━━━━━━━━━━━━━━━━━━━━━━━━━━━━━━━━━━━━━━━━━━━━━━━━━━━━━━━━━━━━━━</span> <span style=\"color: #008000; text-decoration-color: #008000\">57,344/50,000 </span> [ <span style=\"color: #808000; text-decoration-color: #808000\">0:13:29</span> &lt; <span style=\"color: #008080; text-decoration-color: #008080\">0:00:00</span> , <span style=\"color: #800000; text-decoration-color: #800000\">65 it/s</span> ]\n</pre>\n"
                },
                "metadata": {}
              }
            ]
          }
        },
        "3e16b49ed588470da508ac4e13bc63d0": {
          "model_module": "@jupyter-widgets/base",
          "model_name": "LayoutModel",
          "model_module_version": "1.2.0",
          "state": {
            "_model_module": "@jupyter-widgets/base",
            "_model_module_version": "1.2.0",
            "_model_name": "LayoutModel",
            "_view_count": null,
            "_view_module": "@jupyter-widgets/base",
            "_view_module_version": "1.2.0",
            "_view_name": "LayoutView",
            "align_content": null,
            "align_items": null,
            "align_self": null,
            "border": null,
            "bottom": null,
            "display": null,
            "flex": null,
            "flex_flow": null,
            "grid_area": null,
            "grid_auto_columns": null,
            "grid_auto_flow": null,
            "grid_auto_rows": null,
            "grid_column": null,
            "grid_gap": null,
            "grid_row": null,
            "grid_template_areas": null,
            "grid_template_columns": null,
            "grid_template_rows": null,
            "height": null,
            "justify_content": null,
            "justify_items": null,
            "left": null,
            "margin": null,
            "max_height": null,
            "max_width": null,
            "min_height": null,
            "min_width": null,
            "object_fit": null,
            "object_position": null,
            "order": null,
            "overflow": null,
            "overflow_x": null,
            "overflow_y": null,
            "padding": null,
            "right": null,
            "top": null,
            "visibility": null,
            "width": null
          }
        }
      }
    }
  },
  "nbformat": 4,
  "nbformat_minor": 0
}